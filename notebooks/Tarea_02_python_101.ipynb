{
  "nbformat": 4,
  "nbformat_minor": 0,
  "metadata": {
    "colab": {
      "name": "Tareas/02-python-101.ipynb",
      "provenance": [],
      "authorship_tag": "ABX9TyNcdkI7Q07aH3sPbUI4WOUQ",
      "include_colab_link": true
    },
    "kernelspec": {
      "name": "python3",
      "display_name": "Python 3"
    }
  },
  "cells": [
    {
      "cell_type": "markdown",
      "metadata": {
        "id": "view-in-github",
        "colab_type": "text"
      },
      "source": [
        "<a href=\"https://colab.research.google.com/github/LuisGTZB/hacking-civico/blob/master/notebooks/Tarea_02_python_101.ipynb\" target=\"_parent\"><img src=\"https://colab.research.google.com/assets/colab-badge.svg\" alt=\"Open In Colab\"/></a>"
      ]
    },
    {
      "cell_type": "markdown",
      "metadata": {
        "id": "zDKPWbyrPBRu",
        "colab_type": "text"
      },
      "source": [
        "Densidad poblacional León,Guanajuato,México"
      ]
    },
    {
      "cell_type": "code",
      "metadata": {
        "id": "mSVdj1pEDDk7",
        "colab_type": "code",
        "colab": {
          "base_uri": "https://localhost:8080/",
          "height": 34
        },
        "outputId": "ecf215d1-0450-4f12-d713-ecb648a2b63b"
      },
      "source": [
        "#Calculo de la densidad poblacional México \n",
        "poblacion = 126.000000\n",
        "area_ciudad = 1.973000000 \n",
        "densidad_poblacional_Mx = poblacion/area_ciudad\n",
        "\n",
        "print(\"la densidad poblacional de México es:\", densidad_poblacional_Mx)"
      ],
      "execution_count": null,
      "outputs": [
        {
          "output_type": "stream",
          "text": [
            "la densidad poblacional de Guanajuato es: 63.86213887480993\n"
          ],
          "name": "stdout"
        }
      ]
    },
    {
      "cell_type": "code",
      "metadata": {
        "id": "TVoxr_K1QnjJ",
        "colab_type": "code",
        "colab": {
          "base_uri": "https://localhost:8080/",
          "height": 34
        },
        "outputId": "f0b1b331-a49d-4106-ade0-2d18e3f1c623"
      },
      "source": [
        "#Calculo de la densidad poblacional Guanajuato \n",
        "poblacion = 5854000\n",
        "area_ciudad = 30607 \n",
        "densidad_poblacional_Gto = poblacion/area_ciudad\n",
        "\n",
        "print(\"la densidad poblacional de Guanajuato es:\", densidad_poblacional_Gto)"
      ],
      "execution_count": null,
      "outputs": [
        {
          "output_type": "stream",
          "text": [
            "la densidad poblacional de Guanajuato es: 191.26343646878166\n"
          ],
          "name": "stdout"
        }
      ]
    },
    {
      "cell_type": "code",
      "metadata": {
        "id": "GMIhjRbRCYTN",
        "colab_type": "code",
        "colab": {
          "base_uri": "https://localhost:8080/",
          "height": 34
        },
        "outputId": "d12166bd-c348-4d66-8392-640a6abd72eb"
      },
      "source": [
        "#Calculo de la densidad poblacional León \n",
        "poblacion = 1239000\n",
        "area_ciudad = 1220\n",
        "densidad_poblacional_leon = poblacion/area_ciudad\n",
        "\n",
        "print(\"la densidad poblacional de León es:\", densidad_poblacional_leon)\n",
        "\n",
        "  \n",
        "\n"
      ],
      "execution_count": null,
      "outputs": [
        {
          "output_type": "stream",
          "text": [
            "la densidad poblacional de León es: 1015.5737704918033\n"
          ],
          "name": "stdout"
        }
      ]
    },
    {
      "cell_type": "markdown",
      "metadata": {
        "id": "lfy7SdY8U9eX",
        "colab_type": "text"
      },
      "source": [
        "presupuesto 2018 56,477,000\n",
        "presupuesto 2019 49,733,000"
      ]
    },
    {
      "cell_type": "code",
      "metadata": {
        "id": "UaL3qcQvR-pY",
        "colab_type": "code",
        "colab": {
          "base_uri": "https://localhost:8080/",
          "height": 34
        },
        "outputId": "6511a261-860f-411f-be88-f16ab5e1993d"
      },
      "source": [
        "#Calcular gasto per cápita 2018\n",
        "Presupuesto_2018 = 56.477000\n",
        "Poblacion = 1.26000000\n",
        "gasto_per_capita = Presupuesto_2018/Poblacion\n",
        "print(\"El gasto per cápita en 2018 fue de:\", gasto_per_capita)"
      ],
      "execution_count": null,
      "outputs": [
        {
          "output_type": "stream",
          "text": [
            "El gasto per cápita en 2018 fue de: 44.82301587301587\n"
          ],
          "name": "stdout"
        }
      ]
    },
    {
      "cell_type": "code",
      "metadata": {
        "id": "CkNsQSYQWYPS",
        "colab_type": "code",
        "colab": {
          "base_uri": "https://localhost:8080/",
          "height": 34
        },
        "outputId": "5b43c867-325f-45af-d9cd-ae747e5e6cae"
      },
      "source": [
        "#Calcular gasto per cápita 2019\n",
        "Presupuesto_2019 = 49.733000\n",
        "Poblacion = 1.26000000\n",
        "gasto_per_capita = Presupuesto_2019/Poblacion\n",
        "print(\"El gasto per cápita en 2018 fue de:\", gasto_per_capita)"
      ],
      "execution_count": null,
      "outputs": [
        {
          "output_type": "stream",
          "text": [
            "El gasto per cápita en 2018 fue de: 39.470634920634915\n"
          ],
          "name": "stdout"
        }
      ]
    }
  ]
}