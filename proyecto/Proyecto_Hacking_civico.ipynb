{
  "nbformat": 4,
  "nbformat_minor": 0,
  "metadata": {
    "colab": {
      "name": "Proyecto-Hacking-civico.ipynb",
      "provenance": [],
      "collapsed_sections": [],
      "authorship_tag": "ABX9TyPi86V9FOe63eNig4E06lJd",
      "include_colab_link": true
    },
    "kernelspec": {
      "name": "python3",
      "display_name": "Python 3"
    }
  },
  "cells": [
    {
      "cell_type": "markdown",
      "metadata": {
        "id": "view-in-github",
        "colab_type": "text"
      },
      "source": [
        "<a href=\"https://colab.research.google.com/github/LuisGTZB/hacking-civico/blob/master/proyecto/Proyecto_Hacking_civico.ipynb\" target=\"_parent\"><img src=\"https://colab.research.google.com/assets/colab-badge.svg\" alt=\"Open In Colab\"/></a>"
      ]
    },
    {
      "cell_type": "markdown",
      "metadata": {
        "id": "rDul7-g2uLGr",
        "colab_type": "text"
      },
      "source": [
        "# Proyecto Final Hacking-Cívico\n",
        "\n",
        "### Análisis sobre las acciones de inspección y vigilancia ambiental en México \n",
        "\n",
        "#### La informacion se puede consultar [dando click aqui](https://datos.gob.mx/busca/dataset/acciones-de-inspeccion-en-materia-de-impacto-ambiental-y-zofemat)"
      ]
    },
    {
      "cell_type": "code",
      "metadata": {
        "id": "kXHXCsGUAEkE",
        "colab_type": "code",
        "colab": {}
      },
      "source": [
        "#Importacion del archivo\n",
        "from google.colab import files \n",
        "files.upload()"
      ],
      "execution_count": null,
      "outputs": []
    },
    {
      "cell_type": "code",
      "metadata": {
        "id": "yJUdF5cHwnfV",
        "colab_type": "code",
        "colab": {}
      },
      "source": [
        "#importación de librerias\n",
        "import statistics\n",
        "import pandas as pd\n",
        "import numpy as np\n",
        "import altair as alt\n",
        "import seaborn as sns"
      ],
      "execution_count": 221,
      "outputs": []
    },
    {
      "cell_type": "code",
      "metadata": {
        "id": "XDQnvXDvAfQ3",
        "colab_type": "code",
        "colab": {
          "base_uri": "https://localhost:8080/",
          "height": 123
        },
        "outputId": "845be696-c9a6-4074-88bd-a347170a5ea0"
      },
      "source": [
        "#Asignación de variables y unificacion de los datos\n",
        "inspeccion = 'accionesInspeccioniazofemat.csv'\n",
        "datos = pd.read_csv(inspeccion, encoding='latin-1')\n",
        "data = pd.read_csv('accionesInspeccioniazofemat.csv', encoding='latin-1')\n",
        "print(df.head())"
      ],
      "execution_count": 222,
      "outputs": [
        {
          "output_type": "stream",
          "text": [
            "               Entidad           Materia   Inspeccion\n",
            "0       Aguascalientes  Impacto Ambiental           3\n",
            "1      Baja California  Impacto Ambiental           5\n",
            "2  Baja California Sur  Impacto Ambiental          25\n",
            "3             Campeche  Impacto Ambiental           7\n",
            "4              Chiapas  Impacto Ambiental          12\n"
          ],
          "name": "stdout"
        }
      ]
    },
    {
      "cell_type": "code",
      "metadata": {
        "id": "SyGbb4mAUs0s",
        "colab_type": "code",
        "colab": {
          "base_uri": "https://localhost:8080/",
          "height": 1000
        },
        "outputId": "b4a9a556-1a7b-40d8-e2fa-04764ed1a46e"
      },
      "source": [
        "#Impresión de la base de datos completa \n",
        "datos"
      ],
      "execution_count": 224,
      "outputs": [
        {
          "output_type": "execute_result",
          "data": {
            "text/html": [
              "<div>\n",
              "<style scoped>\n",
              "    .dataframe tbody tr th:only-of-type {\n",
              "        vertical-align: middle;\n",
              "    }\n",
              "\n",
              "    .dataframe tbody tr th {\n",
              "        vertical-align: top;\n",
              "    }\n",
              "\n",
              "    .dataframe thead th {\n",
              "        text-align: right;\n",
              "    }\n",
              "</style>\n",
              "<table border=\"1\" class=\"dataframe\">\n",
              "  <thead>\n",
              "    <tr style=\"text-align: right;\">\n",
              "      <th></th>\n",
              "      <th>Entidad</th>\n",
              "      <th>Materia</th>\n",
              "      <th>Inspeccion</th>\n",
              "    </tr>\n",
              "  </thead>\n",
              "  <tbody>\n",
              "    <tr>\n",
              "      <th>0</th>\n",
              "      <td>Aguascalientes</td>\n",
              "      <td>Impacto Ambiental</td>\n",
              "      <td>3</td>\n",
              "    </tr>\n",
              "    <tr>\n",
              "      <th>1</th>\n",
              "      <td>Baja California</td>\n",
              "      <td>Impacto Ambiental</td>\n",
              "      <td>5</td>\n",
              "    </tr>\n",
              "    <tr>\n",
              "      <th>2</th>\n",
              "      <td>Baja California Sur</td>\n",
              "      <td>Impacto Ambiental</td>\n",
              "      <td>25</td>\n",
              "    </tr>\n",
              "    <tr>\n",
              "      <th>3</th>\n",
              "      <td>Campeche</td>\n",
              "      <td>Impacto Ambiental</td>\n",
              "      <td>7</td>\n",
              "    </tr>\n",
              "    <tr>\n",
              "      <th>4</th>\n",
              "      <td>Chiapas</td>\n",
              "      <td>Impacto Ambiental</td>\n",
              "      <td>12</td>\n",
              "    </tr>\n",
              "    <tr>\n",
              "      <th>5</th>\n",
              "      <td>Chihuahua</td>\n",
              "      <td>Impacto Ambiental</td>\n",
              "      <td>3</td>\n",
              "    </tr>\n",
              "    <tr>\n",
              "      <th>6</th>\n",
              "      <td>Coahuila</td>\n",
              "      <td>Impacto Ambiental</td>\n",
              "      <td>14</td>\n",
              "    </tr>\n",
              "    <tr>\n",
              "      <th>7</th>\n",
              "      <td>Colima</td>\n",
              "      <td>Impacto Ambiental</td>\n",
              "      <td>10</td>\n",
              "    </tr>\n",
              "    <tr>\n",
              "      <th>8</th>\n",
              "      <td>Durango</td>\n",
              "      <td>Impacto Ambiental</td>\n",
              "      <td>4</td>\n",
              "    </tr>\n",
              "    <tr>\n",
              "      <th>9</th>\n",
              "      <td>Guanajuato</td>\n",
              "      <td>Impacto Ambiental</td>\n",
              "      <td>8</td>\n",
              "    </tr>\n",
              "    <tr>\n",
              "      <th>10</th>\n",
              "      <td>Guerrero</td>\n",
              "      <td>Impacto Ambiental</td>\n",
              "      <td>24</td>\n",
              "    </tr>\n",
              "    <tr>\n",
              "      <th>11</th>\n",
              "      <td>Hidalgo</td>\n",
              "      <td>Impacto Ambiental</td>\n",
              "      <td>8</td>\n",
              "    </tr>\n",
              "    <tr>\n",
              "      <th>12</th>\n",
              "      <td>Jalisco</td>\n",
              "      <td>Impacto Ambiental</td>\n",
              "      <td>18</td>\n",
              "    </tr>\n",
              "    <tr>\n",
              "      <th>13</th>\n",
              "      <td>México</td>\n",
              "      <td>Impacto Ambiental</td>\n",
              "      <td>13</td>\n",
              "    </tr>\n",
              "    <tr>\n",
              "      <th>14</th>\n",
              "      <td>Michoacán</td>\n",
              "      <td>Impacto Ambiental</td>\n",
              "      <td>5</td>\n",
              "    </tr>\n",
              "    <tr>\n",
              "      <th>15</th>\n",
              "      <td>Morelos</td>\n",
              "      <td>Impacto Ambiental</td>\n",
              "      <td>13</td>\n",
              "    </tr>\n",
              "    <tr>\n",
              "      <th>16</th>\n",
              "      <td>Nayarit</td>\n",
              "      <td>Impacto Ambiental</td>\n",
              "      <td>11</td>\n",
              "    </tr>\n",
              "    <tr>\n",
              "      <th>17</th>\n",
              "      <td>Nuevo León</td>\n",
              "      <td>Impacto Ambiental</td>\n",
              "      <td>26</td>\n",
              "    </tr>\n",
              "    <tr>\n",
              "      <th>18</th>\n",
              "      <td>Oaxaca</td>\n",
              "      <td>Impacto Ambiental</td>\n",
              "      <td>38</td>\n",
              "    </tr>\n",
              "    <tr>\n",
              "      <th>19</th>\n",
              "      <td>Puebla</td>\n",
              "      <td>Impacto Ambiental</td>\n",
              "      <td>1</td>\n",
              "    </tr>\n",
              "    <tr>\n",
              "      <th>20</th>\n",
              "      <td>Querétaro</td>\n",
              "      <td>Impacto Ambiental</td>\n",
              "      <td>3</td>\n",
              "    </tr>\n",
              "    <tr>\n",
              "      <th>21</th>\n",
              "      <td>Quintana Roo</td>\n",
              "      <td>Impacto Ambiental</td>\n",
              "      <td>39</td>\n",
              "    </tr>\n",
              "    <tr>\n",
              "      <th>22</th>\n",
              "      <td>San Luis Potosí</td>\n",
              "      <td>Impacto Ambiental</td>\n",
              "      <td>4</td>\n",
              "    </tr>\n",
              "    <tr>\n",
              "      <th>23</th>\n",
              "      <td>Sinaloa</td>\n",
              "      <td>Impacto Ambiental</td>\n",
              "      <td>12</td>\n",
              "    </tr>\n",
              "    <tr>\n",
              "      <th>24</th>\n",
              "      <td>Sonora</td>\n",
              "      <td>Impacto Ambiental</td>\n",
              "      <td>7</td>\n",
              "    </tr>\n",
              "    <tr>\n",
              "      <th>25</th>\n",
              "      <td>Tabasco</td>\n",
              "      <td>Impacto Ambiental</td>\n",
              "      <td>6</td>\n",
              "    </tr>\n",
              "    <tr>\n",
              "      <th>26</th>\n",
              "      <td>Tamaulipas</td>\n",
              "      <td>Impacto Ambiental</td>\n",
              "      <td>7</td>\n",
              "    </tr>\n",
              "    <tr>\n",
              "      <th>27</th>\n",
              "      <td>Tlaxcala</td>\n",
              "      <td>Impacto Ambiental</td>\n",
              "      <td>4</td>\n",
              "    </tr>\n",
              "    <tr>\n",
              "      <th>28</th>\n",
              "      <td>Veracruz</td>\n",
              "      <td>Impacto Ambiental</td>\n",
              "      <td>22</td>\n",
              "    </tr>\n",
              "    <tr>\n",
              "      <th>29</th>\n",
              "      <td>Yucatán</td>\n",
              "      <td>Impacto Ambiental</td>\n",
              "      <td>32</td>\n",
              "    </tr>\n",
              "    <tr>\n",
              "      <th>30</th>\n",
              "      <td>Zacatecas</td>\n",
              "      <td>Impacto Ambiental</td>\n",
              "      <td>8</td>\n",
              "    </tr>\n",
              "    <tr>\n",
              "      <th>31</th>\n",
              "      <td>ZMVM</td>\n",
              "      <td>Impacto Ambiental</td>\n",
              "      <td>5</td>\n",
              "    </tr>\n",
              "    <tr>\n",
              "      <th>32</th>\n",
              "      <td>Oficinas Centrales</td>\n",
              "      <td>Impacto Ambiental</td>\n",
              "      <td>5</td>\n",
              "    </tr>\n",
              "    <tr>\n",
              "      <th>33</th>\n",
              "      <td>Baja California</td>\n",
              "      <td>ZOFEMAT</td>\n",
              "      <td>1</td>\n",
              "    </tr>\n",
              "    <tr>\n",
              "      <th>34</th>\n",
              "      <td>Baja California Sur</td>\n",
              "      <td>ZOFEMAT</td>\n",
              "      <td>7</td>\n",
              "    </tr>\n",
              "    <tr>\n",
              "      <th>35</th>\n",
              "      <td>Campeche</td>\n",
              "      <td>ZOFEMAT</td>\n",
              "      <td>0</td>\n",
              "    </tr>\n",
              "    <tr>\n",
              "      <th>36</th>\n",
              "      <td>Chiapas</td>\n",
              "      <td>ZOFEMAT</td>\n",
              "      <td>5</td>\n",
              "    </tr>\n",
              "    <tr>\n",
              "      <th>37</th>\n",
              "      <td>Colima</td>\n",
              "      <td>ZOFEMAT</td>\n",
              "      <td>2</td>\n",
              "    </tr>\n",
              "    <tr>\n",
              "      <th>38</th>\n",
              "      <td>Guerrero</td>\n",
              "      <td>ZOFEMAT</td>\n",
              "      <td>20</td>\n",
              "    </tr>\n",
              "    <tr>\n",
              "      <th>39</th>\n",
              "      <td>Jalisco</td>\n",
              "      <td>ZOFEMAT</td>\n",
              "      <td>8</td>\n",
              "    </tr>\n",
              "    <tr>\n",
              "      <th>40</th>\n",
              "      <td>Michoacán</td>\n",
              "      <td>ZOFEMAT</td>\n",
              "      <td>5</td>\n",
              "    </tr>\n",
              "    <tr>\n",
              "      <th>41</th>\n",
              "      <td>Nayarit</td>\n",
              "      <td>ZOFEMAT</td>\n",
              "      <td>6</td>\n",
              "    </tr>\n",
              "    <tr>\n",
              "      <th>42</th>\n",
              "      <td>Oaxaca</td>\n",
              "      <td>ZOFEMAT</td>\n",
              "      <td>7</td>\n",
              "    </tr>\n",
              "    <tr>\n",
              "      <th>43</th>\n",
              "      <td>Quintana Roo</td>\n",
              "      <td>ZOFEMAT</td>\n",
              "      <td>5</td>\n",
              "    </tr>\n",
              "    <tr>\n",
              "      <th>44</th>\n",
              "      <td>Sinaloa</td>\n",
              "      <td>ZOFEMAT</td>\n",
              "      <td>8</td>\n",
              "    </tr>\n",
              "    <tr>\n",
              "      <th>45</th>\n",
              "      <td>Sonora</td>\n",
              "      <td>ZOFEMAT</td>\n",
              "      <td>4</td>\n",
              "    </tr>\n",
              "    <tr>\n",
              "      <th>46</th>\n",
              "      <td>Tabasco</td>\n",
              "      <td>ZOFEMAT</td>\n",
              "      <td>0</td>\n",
              "    </tr>\n",
              "    <tr>\n",
              "      <th>47</th>\n",
              "      <td>Tamaulipas</td>\n",
              "      <td>ZOFEMAT</td>\n",
              "      <td>2</td>\n",
              "    </tr>\n",
              "    <tr>\n",
              "      <th>48</th>\n",
              "      <td>Veracruz</td>\n",
              "      <td>ZOFEMAT</td>\n",
              "      <td>4</td>\n",
              "    </tr>\n",
              "    <tr>\n",
              "      <th>49</th>\n",
              "      <td>Yucatán</td>\n",
              "      <td>ZOFEMAT</td>\n",
              "      <td>4</td>\n",
              "    </tr>\n",
              "    <tr>\n",
              "      <th>50</th>\n",
              "      <td>Oficinas Centrales</td>\n",
              "      <td>ZOFEMAT</td>\n",
              "      <td>12</td>\n",
              "    </tr>\n",
              "  </tbody>\n",
              "</table>\n",
              "</div>"
            ],
            "text/plain": [
              "                Entidad           Materia   Inspeccion\n",
              "0        Aguascalientes  Impacto Ambiental           3\n",
              "1       Baja California  Impacto Ambiental           5\n",
              "2   Baja California Sur  Impacto Ambiental          25\n",
              "3              Campeche  Impacto Ambiental           7\n",
              "4               Chiapas  Impacto Ambiental          12\n",
              "5             Chihuahua  Impacto Ambiental           3\n",
              "6              Coahuila  Impacto Ambiental          14\n",
              "7                Colima  Impacto Ambiental          10\n",
              "8               Durango  Impacto Ambiental           4\n",
              "9            Guanajuato  Impacto Ambiental           8\n",
              "10             Guerrero  Impacto Ambiental          24\n",
              "11              Hidalgo  Impacto Ambiental           8\n",
              "12              Jalisco  Impacto Ambiental          18\n",
              "13               México  Impacto Ambiental          13\n",
              "14            Michoacán  Impacto Ambiental           5\n",
              "15              Morelos  Impacto Ambiental          13\n",
              "16              Nayarit  Impacto Ambiental          11\n",
              "17           Nuevo León  Impacto Ambiental          26\n",
              "18               Oaxaca  Impacto Ambiental          38\n",
              "19               Puebla  Impacto Ambiental           1\n",
              "20            Querétaro  Impacto Ambiental           3\n",
              "21         Quintana Roo  Impacto Ambiental          39\n",
              "22      San Luis Potosí  Impacto Ambiental           4\n",
              "23              Sinaloa  Impacto Ambiental          12\n",
              "24               Sonora  Impacto Ambiental           7\n",
              "25              Tabasco  Impacto Ambiental           6\n",
              "26           Tamaulipas  Impacto Ambiental           7\n",
              "27             Tlaxcala  Impacto Ambiental           4\n",
              "28             Veracruz  Impacto Ambiental          22\n",
              "29              Yucatán  Impacto Ambiental          32\n",
              "30            Zacatecas  Impacto Ambiental           8\n",
              "31                 ZMVM  Impacto Ambiental           5\n",
              "32   Oficinas Centrales  Impacto Ambiental           5\n",
              "33      Baja California            ZOFEMAT           1\n",
              "34  Baja California Sur            ZOFEMAT           7\n",
              "35             Campeche            ZOFEMAT           0\n",
              "36              Chiapas            ZOFEMAT           5\n",
              "37               Colima            ZOFEMAT           2\n",
              "38             Guerrero            ZOFEMAT          20\n",
              "39              Jalisco            ZOFEMAT           8\n",
              "40            Michoacán            ZOFEMAT           5\n",
              "41              Nayarit            ZOFEMAT           6\n",
              "42               Oaxaca            ZOFEMAT           7\n",
              "43         Quintana Roo            ZOFEMAT           5\n",
              "44              Sinaloa            ZOFEMAT           8\n",
              "45               Sonora            ZOFEMAT           4\n",
              "46              Tabasco            ZOFEMAT           0\n",
              "47           Tamaulipas            ZOFEMAT           2\n",
              "48             Veracruz            ZOFEMAT           4\n",
              "49              Yucatán            ZOFEMAT           4\n",
              "50  Oficinas Centrales             ZOFEMAT          12"
            ]
          },
          "metadata": {
            "tags": []
          },
          "execution_count": 224
        }
      ]
    },
    {
      "cell_type": "code",
      "metadata": {
        "id": "sGDTdW_XB7Ak",
        "colab_type": "code",
        "colab": {
          "base_uri": "https://localhost:8080/",
          "height": 52
        },
        "outputId": "4cf43427-a15b-4eeb-fe35-7ae7bf2e0929"
      },
      "source": [
        "#Ejecución para saber la longitud de la base de datos\n",
        "print('Número de filas: {}'.format(data.shape[0]))\n",
        "print('Número de columnas: {}'.format(data.shape[1]))"
      ],
      "execution_count": 225,
      "outputs": [
        {
          "output_type": "stream",
          "text": [
            "Número de filas: 51\n",
            "Número de columnas: 3\n"
          ],
          "name": "stdout"
        }
      ]
    },
    {
      "cell_type": "markdown",
      "metadata": {
        "id": "AGIWY_Tfdpot",
        "colab_type": "text"
      },
      "source": [
        "## Gráfico para conocer el numero de inspecciones que se realizan por entidad "
      ]
    },
    {
      "cell_type": "code",
      "metadata": {
        "id": "X9L_wY1YCSaN",
        "colab_type": "code",
        "colab": {}
      },
      "source": [
        "#Generación del gráfico\n",
        "grafico_Inspecciones = alt.Chart(datos).mark_bar(color='blue').encode(\n",
        "    x = alt.X(\"Entidad:O\"),\n",
        "    y = alt.Y(\"Inspeccion:Q\", title='Numero de inspecciones')\n",
        ").properties(\n",
        "    title = \"Inspecciones por entidad\",\n",
        "    width = 850\n",
        ")"
      ],
      "execution_count": 226,
      "outputs": []
    },
    {
      "cell_type": "code",
      "metadata": {
        "id": "F3YOhl15Rmk7",
        "colab_type": "code",
        "colab": {
          "base_uri": "https://localhost:8080/",
          "height": 458
        },
        "outputId": "30d87311-983c-4b2f-9fef-8a357c7daca0"
      },
      "source": [
        "#Impresión de gráfico\n",
        "grafico_Inspecciones"
      ],
      "execution_count": 227,
      "outputs": [
        {
          "output_type": "execute_result",
          "data": {
            "text/plain": [
              "alt.Chart(...)"
            ],
            "text/html": [
              "\n",
              "<div id=\"altair-viz-e7e29dd7304c4b859ed9633f6e6a518b\"></div>\n",
              "<script type=\"text/javascript\">\n",
              "  (function(spec, embedOpt){\n",
              "    let outputDiv = document.currentScript.previousElementSibling;\n",
              "    if (outputDiv.id !== \"altair-viz-e7e29dd7304c4b859ed9633f6e6a518b\") {\n",
              "      outputDiv = document.getElementById(\"altair-viz-e7e29dd7304c4b859ed9633f6e6a518b\");\n",
              "    }\n",
              "    const paths = {\n",
              "      \"vega\": \"https://cdn.jsdelivr.net/npm//vega@5?noext\",\n",
              "      \"vega-lib\": \"https://cdn.jsdelivr.net/npm//vega-lib?noext\",\n",
              "      \"vega-lite\": \"https://cdn.jsdelivr.net/npm//vega-lite@4.8.1?noext\",\n",
              "      \"vega-embed\": \"https://cdn.jsdelivr.net/npm//vega-embed@6?noext\",\n",
              "    };\n",
              "\n",
              "    function loadScript(lib) {\n",
              "      return new Promise(function(resolve, reject) {\n",
              "        var s = document.createElement('script');\n",
              "        s.src = paths[lib];\n",
              "        s.async = true;\n",
              "        s.onload = () => resolve(paths[lib]);\n",
              "        s.onerror = () => reject(`Error loading script: ${paths[lib]}`);\n",
              "        document.getElementsByTagName(\"head\")[0].appendChild(s);\n",
              "      });\n",
              "    }\n",
              "\n",
              "    function showError(err) {\n",
              "      outputDiv.innerHTML = `<div class=\"error\" style=\"color:red;\">${err}</div>`;\n",
              "      throw err;\n",
              "    }\n",
              "\n",
              "    function displayChart(vegaEmbed) {\n",
              "      vegaEmbed(outputDiv, spec, embedOpt)\n",
              "        .catch(err => showError(`Javascript Error: ${err.message}<br>This usually means there's a typo in your chart specification. See the javascript console for the full traceback.`));\n",
              "    }\n",
              "\n",
              "    if(typeof define === \"function\" && define.amd) {\n",
              "      requirejs.config({paths});\n",
              "      require([\"vega-embed\"], displayChart, err => showError(`Error loading script: ${err.message}`));\n",
              "    } else if (typeof vegaEmbed === \"function\") {\n",
              "      displayChart(vegaEmbed);\n",
              "    } else {\n",
              "      loadScript(\"vega\")\n",
              "        .then(() => loadScript(\"vega-lite\"))\n",
              "        .then(() => loadScript(\"vega-embed\"))\n",
              "        .catch(showError)\n",
              "        .then(() => displayChart(vegaEmbed));\n",
              "    }\n",
              "  })({\"config\": {\"view\": {\"continuousWidth\": 400, \"continuousHeight\": 300}}, \"data\": {\"name\": \"data-618fe422a95e0677b81ef9286750aa7c\"}, \"mark\": {\"type\": \"bar\", \"color\": \"blue\"}, \"encoding\": {\"x\": {\"type\": \"ordinal\", \"field\": \"Entidad\"}, \"y\": {\"type\": \"quantitative\", \"field\": \"Inspeccion\", \"title\": \"Numero de inspecciones\"}}, \"title\": \"Inspecciones por entidad\", \"width\": 850, \"$schema\": \"https://vega.github.io/schema/vega-lite/v4.8.1.json\", \"datasets\": {\"data-618fe422a95e0677b81ef9286750aa7c\": [{\"Entidad\": \"Aguascalientes\", \"Materia \": \"Impacto Ambiental\", \"Inspeccion\": 3}, {\"Entidad\": \"Baja California\", \"Materia \": \"Impacto Ambiental\", \"Inspeccion\": 5}, {\"Entidad\": \"Baja California Sur\", \"Materia \": \"Impacto Ambiental\", \"Inspeccion\": 25}, {\"Entidad\": \"Campeche\", \"Materia \": \"Impacto Ambiental\", \"Inspeccion\": 7}, {\"Entidad\": \"Chiapas\", \"Materia \": \"Impacto Ambiental\", \"Inspeccion\": 12}, {\"Entidad\": \"Chihuahua\", \"Materia \": \"Impacto Ambiental\", \"Inspeccion\": 3}, {\"Entidad\": \"Coahuila\", \"Materia \": \"Impacto Ambiental\", \"Inspeccion\": 14}, {\"Entidad\": \"Colima\", \"Materia \": \"Impacto Ambiental\", \"Inspeccion\": 10}, {\"Entidad\": \"Durango\", \"Materia \": \"Impacto Ambiental\", \"Inspeccion\": 4}, {\"Entidad\": \"Guanajuato\", \"Materia \": \"Impacto Ambiental\", \"Inspeccion\": 8}, {\"Entidad\": \"Guerrero\", \"Materia \": \"Impacto Ambiental\", \"Inspeccion\": 24}, {\"Entidad\": \"Hidalgo\", \"Materia \": \"Impacto Ambiental\", \"Inspeccion\": 8}, {\"Entidad\": \"Jalisco\", \"Materia \": \"Impacto Ambiental\", \"Inspeccion\": 18}, {\"Entidad\": \"M\\u00e9xico\", \"Materia \": \"Impacto Ambiental\", \"Inspeccion\": 13}, {\"Entidad\": \"Michoac\\u00e1n\", \"Materia \": \"Impacto Ambiental\", \"Inspeccion\": 5}, {\"Entidad\": \"Morelos\", \"Materia \": \"Impacto Ambiental\", \"Inspeccion\": 13}, {\"Entidad\": \"Nayarit\", \"Materia \": \"Impacto Ambiental\", \"Inspeccion\": 11}, {\"Entidad\": \"Nuevo Le\\u00f3n\", \"Materia \": \"Impacto Ambiental\", \"Inspeccion\": 26}, {\"Entidad\": \"Oaxaca\", \"Materia \": \"Impacto Ambiental\", \"Inspeccion\": 38}, {\"Entidad\": \"Puebla\", \"Materia \": \"Impacto Ambiental\", \"Inspeccion\": 1}, {\"Entidad\": \"Quer\\u00e9taro\", \"Materia \": \"Impacto Ambiental\", \"Inspeccion\": 3}, {\"Entidad\": \"Quintana Roo\", \"Materia \": \"Impacto Ambiental\", \"Inspeccion\": 39}, {\"Entidad\": \"San Luis Potos\\u00ed\", \"Materia \": \"Impacto Ambiental\", \"Inspeccion\": 4}, {\"Entidad\": \"Sinaloa\", \"Materia \": \"Impacto Ambiental\", \"Inspeccion\": 12}, {\"Entidad\": \"Sonora\", \"Materia \": \"Impacto Ambiental\", \"Inspeccion\": 7}, {\"Entidad\": \"Tabasco\", \"Materia \": \"Impacto Ambiental\", \"Inspeccion\": 6}, {\"Entidad\": \"Tamaulipas\", \"Materia \": \"Impacto Ambiental\", \"Inspeccion\": 7}, {\"Entidad\": \"Tlaxcala\", \"Materia \": \"Impacto Ambiental\", \"Inspeccion\": 4}, {\"Entidad\": \"Veracruz\", \"Materia \": \"Impacto Ambiental\", \"Inspeccion\": 22}, {\"Entidad\": \"Yucat\\u00e1n\", \"Materia \": \"Impacto Ambiental\", \"Inspeccion\": 32}, {\"Entidad\": \"Zacatecas\", \"Materia \": \"Impacto Ambiental\", \"Inspeccion\": 8}, {\"Entidad\": \"ZMVM\", \"Materia \": \"Impacto Ambiental\", \"Inspeccion\": 5}, {\"Entidad\": \"Oficinas Centrales\", \"Materia \": \"Impacto Ambiental\", \"Inspeccion\": 5}, {\"Entidad\": \"Baja California\", \"Materia \": \"ZOFEMAT\", \"Inspeccion\": 1}, {\"Entidad\": \"Baja California Sur\", \"Materia \": \"ZOFEMAT\", \"Inspeccion\": 7}, {\"Entidad\": \"Campeche\", \"Materia \": \"ZOFEMAT\", \"Inspeccion\": 0}, {\"Entidad\": \"Chiapas\", \"Materia \": \"ZOFEMAT\", \"Inspeccion\": 5}, {\"Entidad\": \"Colima\", \"Materia \": \"ZOFEMAT\", \"Inspeccion\": 2}, {\"Entidad\": \"Guerrero\", \"Materia \": \"ZOFEMAT\", \"Inspeccion\": 20}, {\"Entidad\": \"Jalisco\", \"Materia \": \"ZOFEMAT\", \"Inspeccion\": 8}, {\"Entidad\": \"Michoac\\u00e1n\", \"Materia \": \"ZOFEMAT\", \"Inspeccion\": 5}, {\"Entidad\": \"Nayarit\", \"Materia \": \"ZOFEMAT\", \"Inspeccion\": 6}, {\"Entidad\": \"Oaxaca\", \"Materia \": \"ZOFEMAT\", \"Inspeccion\": 7}, {\"Entidad\": \"Quintana Roo\", \"Materia \": \"ZOFEMAT\", \"Inspeccion\": 5}, {\"Entidad\": \"Sinaloa\", \"Materia \": \"ZOFEMAT\", \"Inspeccion\": 8}, {\"Entidad\": \"Sonora\", \"Materia \": \"ZOFEMAT\", \"Inspeccion\": 4}, {\"Entidad\": \"Tabasco\", \"Materia \": \"ZOFEMAT\", \"Inspeccion\": 0}, {\"Entidad\": \"Tamaulipas\", \"Materia \": \"ZOFEMAT\", \"Inspeccion\": 2}, {\"Entidad\": \"Veracruz\", \"Materia \": \"ZOFEMAT\", \"Inspeccion\": 4}, {\"Entidad\": \"Yucat\\u00e1n\", \"Materia \": \"ZOFEMAT\", \"Inspeccion\": 4}, {\"Entidad\": \"Oficinas Centrales \", \"Materia \": \"ZOFEMAT\", \"Inspeccion\": 12}]}}, {\"mode\": \"vega-lite\"});\n",
              "</script>"
            ]
          },
          "metadata": {
            "tags": []
          },
          "execution_count": 227
        }
      ]
    },
    {
      "cell_type": "markdown",
      "metadata": {
        "id": "KFdo0m883LCn",
        "colab_type": "text"
      },
      "source": [
        "![Grafico_inspecciones_entidad.png](data:image/png;base64,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)"
      ]
    },
    {
      "cell_type": "code",
      "metadata": {
        "id": "gP9ZNuneYPy4",
        "colab_type": "code",
        "colab": {
          "base_uri": "https://localhost:8080/",
          "height": 34
        },
        "outputId": "bf379d56-5c49-4c5a-c501-cfef01584f94"
      },
      "source": [
        "#Impresión de las columnas para descubrir un error en el nombre de \"Materias\" y que tiene un caracter de espacio\n",
        "data.columns"
      ],
      "execution_count": 228,
      "outputs": [
        {
          "output_type": "execute_result",
          "data": {
            "text/plain": [
              "Index(['Entidad', 'Materia ', 'Inspeccion'], dtype='object')"
            ]
          },
          "metadata": {
            "tags": []
          },
          "execution_count": 228
        }
      ]
    },
    {
      "cell_type": "markdown",
      "metadata": {
        "id": "IIKa9Ie7eRIb",
        "colab_type": "text"
      },
      "source": [
        "## Gráfico para conocer el numero de inspecciones que se realizan según el tipo de inspección"
      ]
    },
    {
      "cell_type": "code",
      "metadata": {
        "id": "-8n-0npnWNvz",
        "colab_type": "code",
        "colab": {}
      },
      "source": [
        "#Generación del gráfico\n",
        "grafico_Materia = alt.Chart(datos).mark_bar(color='blue').encode(\n",
        "    x = alt.X(\"Materia :O\"),\n",
        "    y = alt.Y(\"Inspeccion:Q\", title='Numero de inspecciones')\n",
        ").properties(\n",
        "    title = \"Inspecciones por Materia\",\n",
        "    width = 550\n",
        ")"
      ],
      "execution_count": 237,
      "outputs": []
    },
    {
      "cell_type": "code",
      "metadata": {
        "id": "hVlosYtYWXru",
        "colab_type": "code",
        "colab": {
          "base_uri": "https://localhost:8080/",
          "height": 458
        },
        "outputId": "8087e9e1-f600-4477-81a5-e8bcea88aeea"
      },
      "source": [
        "#Impresión de gráfico\n",
        "grafico_Materia"
      ],
      "execution_count": 238,
      "outputs": [
        {
          "output_type": "execute_result",
          "data": {
            "text/plain": [
              "alt.Chart(...)"
            ],
            "text/html": [
              "\n",
              "<div id=\"altair-viz-6613306222104de4b296e97652494d63\"></div>\n",
              "<script type=\"text/javascript\">\n",
              "  (function(spec, embedOpt){\n",
              "    let outputDiv = document.currentScript.previousElementSibling;\n",
              "    if (outputDiv.id !== \"altair-viz-6613306222104de4b296e97652494d63\") {\n",
              "      outputDiv = document.getElementById(\"altair-viz-6613306222104de4b296e97652494d63\");\n",
              "    }\n",
              "    const paths = {\n",
              "      \"vega\": \"https://cdn.jsdelivr.net/npm//vega@5?noext\",\n",
              "      \"vega-lib\": \"https://cdn.jsdelivr.net/npm//vega-lib?noext\",\n",
              "      \"vega-lite\": \"https://cdn.jsdelivr.net/npm//vega-lite@4.8.1?noext\",\n",
              "      \"vega-embed\": \"https://cdn.jsdelivr.net/npm//vega-embed@6?noext\",\n",
              "    };\n",
              "\n",
              "    function loadScript(lib) {\n",
              "      return new Promise(function(resolve, reject) {\n",
              "        var s = document.createElement('script');\n",
              "        s.src = paths[lib];\n",
              "        s.async = true;\n",
              "        s.onload = () => resolve(paths[lib]);\n",
              "        s.onerror = () => reject(`Error loading script: ${paths[lib]}`);\n",
              "        document.getElementsByTagName(\"head\")[0].appendChild(s);\n",
              "      });\n",
              "    }\n",
              "\n",
              "    function showError(err) {\n",
              "      outputDiv.innerHTML = `<div class=\"error\" style=\"color:red;\">${err}</div>`;\n",
              "      throw err;\n",
              "    }\n",
              "\n",
              "    function displayChart(vegaEmbed) {\n",
              "      vegaEmbed(outputDiv, spec, embedOpt)\n",
              "        .catch(err => showError(`Javascript Error: ${err.message}<br>This usually means there's a typo in your chart specification. See the javascript console for the full traceback.`));\n",
              "    }\n",
              "\n",
              "    if(typeof define === \"function\" && define.amd) {\n",
              "      requirejs.config({paths});\n",
              "      require([\"vega-embed\"], displayChart, err => showError(`Error loading script: ${err.message}`));\n",
              "    } else if (typeof vegaEmbed === \"function\") {\n",
              "      displayChart(vegaEmbed);\n",
              "    } else {\n",
              "      loadScript(\"vega\")\n",
              "        .then(() => loadScript(\"vega-lite\"))\n",
              "        .then(() => loadScript(\"vega-embed\"))\n",
              "        .catch(showError)\n",
              "        .then(() => displayChart(vegaEmbed));\n",
              "    }\n",
              "  })({\"config\": {\"view\": {\"continuousWidth\": 400, \"continuousHeight\": 300}}, \"data\": {\"name\": \"data-618fe422a95e0677b81ef9286750aa7c\"}, \"mark\": {\"type\": \"bar\", \"color\": \"blue\"}, \"encoding\": {\"x\": {\"type\": \"ordinal\", \"field\": \"Materia \"}, \"y\": {\"type\": \"quantitative\", \"field\": \"Inspeccion\", \"title\": \"Numero de inspecciones\"}}, \"title\": \"Inspecciones por Materia\", \"width\": 550, \"$schema\": \"https://vega.github.io/schema/vega-lite/v4.8.1.json\", \"datasets\": {\"data-618fe422a95e0677b81ef9286750aa7c\": [{\"Entidad\": \"Aguascalientes\", \"Materia \": \"Impacto Ambiental\", \"Inspeccion\": 3}, {\"Entidad\": \"Baja California\", \"Materia \": \"Impacto Ambiental\", \"Inspeccion\": 5}, {\"Entidad\": \"Baja California Sur\", \"Materia \": \"Impacto Ambiental\", \"Inspeccion\": 25}, {\"Entidad\": \"Campeche\", \"Materia \": \"Impacto Ambiental\", \"Inspeccion\": 7}, {\"Entidad\": \"Chiapas\", \"Materia \": \"Impacto Ambiental\", \"Inspeccion\": 12}, {\"Entidad\": \"Chihuahua\", \"Materia \": \"Impacto Ambiental\", \"Inspeccion\": 3}, {\"Entidad\": \"Coahuila\", \"Materia \": \"Impacto Ambiental\", \"Inspeccion\": 14}, {\"Entidad\": \"Colima\", \"Materia \": \"Impacto Ambiental\", \"Inspeccion\": 10}, {\"Entidad\": \"Durango\", \"Materia \": \"Impacto Ambiental\", \"Inspeccion\": 4}, {\"Entidad\": \"Guanajuato\", \"Materia \": \"Impacto Ambiental\", \"Inspeccion\": 8}, {\"Entidad\": \"Guerrero\", \"Materia \": \"Impacto Ambiental\", \"Inspeccion\": 24}, {\"Entidad\": \"Hidalgo\", \"Materia \": \"Impacto Ambiental\", \"Inspeccion\": 8}, {\"Entidad\": \"Jalisco\", \"Materia \": \"Impacto Ambiental\", \"Inspeccion\": 18}, {\"Entidad\": \"M\\u00e9xico\", \"Materia \": \"Impacto Ambiental\", \"Inspeccion\": 13}, {\"Entidad\": \"Michoac\\u00e1n\", \"Materia \": \"Impacto Ambiental\", \"Inspeccion\": 5}, {\"Entidad\": \"Morelos\", \"Materia \": \"Impacto Ambiental\", \"Inspeccion\": 13}, {\"Entidad\": \"Nayarit\", \"Materia \": \"Impacto Ambiental\", \"Inspeccion\": 11}, {\"Entidad\": \"Nuevo Le\\u00f3n\", \"Materia \": \"Impacto Ambiental\", \"Inspeccion\": 26}, {\"Entidad\": \"Oaxaca\", \"Materia \": \"Impacto Ambiental\", \"Inspeccion\": 38}, {\"Entidad\": \"Puebla\", \"Materia \": \"Impacto Ambiental\", \"Inspeccion\": 1}, {\"Entidad\": \"Quer\\u00e9taro\", \"Materia \": \"Impacto Ambiental\", \"Inspeccion\": 3}, {\"Entidad\": \"Quintana Roo\", \"Materia \": \"Impacto Ambiental\", \"Inspeccion\": 39}, {\"Entidad\": \"San Luis Potos\\u00ed\", \"Materia \": \"Impacto Ambiental\", \"Inspeccion\": 4}, {\"Entidad\": \"Sinaloa\", \"Materia \": \"Impacto Ambiental\", \"Inspeccion\": 12}, {\"Entidad\": \"Sonora\", \"Materia \": \"Impacto Ambiental\", \"Inspeccion\": 7}, {\"Entidad\": \"Tabasco\", \"Materia \": \"Impacto Ambiental\", \"Inspeccion\": 6}, {\"Entidad\": \"Tamaulipas\", \"Materia \": \"Impacto Ambiental\", \"Inspeccion\": 7}, {\"Entidad\": \"Tlaxcala\", \"Materia \": \"Impacto Ambiental\", \"Inspeccion\": 4}, {\"Entidad\": \"Veracruz\", \"Materia \": \"Impacto Ambiental\", \"Inspeccion\": 22}, {\"Entidad\": \"Yucat\\u00e1n\", \"Materia \": \"Impacto Ambiental\", \"Inspeccion\": 32}, {\"Entidad\": \"Zacatecas\", \"Materia \": \"Impacto Ambiental\", \"Inspeccion\": 8}, {\"Entidad\": \"ZMVM\", \"Materia \": \"Impacto Ambiental\", \"Inspeccion\": 5}, {\"Entidad\": \"Oficinas Centrales\", \"Materia \": \"Impacto Ambiental\", \"Inspeccion\": 5}, {\"Entidad\": \"Baja California\", \"Materia \": \"ZOFEMAT\", \"Inspeccion\": 1}, {\"Entidad\": \"Baja California Sur\", \"Materia \": \"ZOFEMAT\", \"Inspeccion\": 7}, {\"Entidad\": \"Campeche\", \"Materia \": \"ZOFEMAT\", \"Inspeccion\": 0}, {\"Entidad\": \"Chiapas\", \"Materia \": \"ZOFEMAT\", \"Inspeccion\": 5}, {\"Entidad\": \"Colima\", \"Materia \": \"ZOFEMAT\", \"Inspeccion\": 2}, {\"Entidad\": \"Guerrero\", \"Materia \": \"ZOFEMAT\", \"Inspeccion\": 20}, {\"Entidad\": \"Jalisco\", \"Materia \": \"ZOFEMAT\", \"Inspeccion\": 8}, {\"Entidad\": \"Michoac\\u00e1n\", \"Materia \": \"ZOFEMAT\", \"Inspeccion\": 5}, {\"Entidad\": \"Nayarit\", \"Materia \": \"ZOFEMAT\", \"Inspeccion\": 6}, {\"Entidad\": \"Oaxaca\", \"Materia \": \"ZOFEMAT\", \"Inspeccion\": 7}, {\"Entidad\": \"Quintana Roo\", \"Materia \": \"ZOFEMAT\", \"Inspeccion\": 5}, {\"Entidad\": \"Sinaloa\", \"Materia \": \"ZOFEMAT\", \"Inspeccion\": 8}, {\"Entidad\": \"Sonora\", \"Materia \": \"ZOFEMAT\", \"Inspeccion\": 4}, {\"Entidad\": \"Tabasco\", \"Materia \": \"ZOFEMAT\", \"Inspeccion\": 0}, {\"Entidad\": \"Tamaulipas\", \"Materia \": \"ZOFEMAT\", \"Inspeccion\": 2}, {\"Entidad\": \"Veracruz\", \"Materia \": \"ZOFEMAT\", \"Inspeccion\": 4}, {\"Entidad\": \"Yucat\\u00e1n\", \"Materia \": \"ZOFEMAT\", \"Inspeccion\": 4}, {\"Entidad\": \"Oficinas Centrales \", \"Materia \": \"ZOFEMAT\", \"Inspeccion\": 12}]}}, {\"mode\": \"vega-lite\"});\n",
              "</script>"
            ]
          },
          "metadata": {
            "tags": []
          },
          "execution_count": 238
        }
      ]
    },
    {
      "cell_type": "markdown",
      "metadata": {
        "id": "sFcQp9BL3EK0",
        "colab_type": "text"
      },
      "source": [
        "![Grafico_inspecciones_materia.png](data:image/png;base64,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)"
      ]
    },
    {
      "cell_type": "markdown",
      "metadata": {
        "id": "xWMW8Kj5e1DK",
        "colab_type": "text"
      },
      "source": [
        "# Querys para responder algunas preguntas"
      ]
    },
    {
      "cell_type": "code",
      "metadata": {
        "id": "SvTCEAXoYgTP",
        "colab_type": "code",
        "colab": {
          "base_uri": "https://localhost:8080/",
          "height": 87
        },
        "outputId": "1d3e3948-25e9-4058-ca8c-408a7795e8cb"
      },
      "source": [
        "#¿De que tipo de inspecciones se realizan más? \n",
        "data.groupby('Materia ').Inspeccion.count()"
      ],
      "execution_count": 231,
      "outputs": [
        {
          "output_type": "execute_result",
          "data": {
            "text/plain": [
              "Materia \n",
              "Impacto Ambiental    33\n",
              "ZOFEMAT              18\n",
              "Name: Inspeccion, dtype: int64"
            ]
          },
          "metadata": {
            "tags": []
          },
          "execution_count": 231
        }
      ]
    },
    {
      "cell_type": "code",
      "metadata": {
        "id": "c3z_Kw_thAyS",
        "colab_type": "code",
        "colab": {
          "base_uri": "https://localhost:8080/",
          "height": 52
        },
        "outputId": "ca0cb026-b1f2-4ed1-a07e-1ec1980d6ba4"
      },
      "source": [
        "#¿Cuántas inspecciones se hacen en Guanajuato?\n",
        "\n",
        "data[data.Entidad  == 'Guanajuato'].Inspeccion.value_counts()\n",
        "\n"
      ],
      "execution_count": 232,
      "outputs": [
        {
          "output_type": "execute_result",
          "data": {
            "text/plain": [
              "8    1\n",
              "Name: Inspeccion, dtype: int64"
            ]
          },
          "metadata": {
            "tags": []
          },
          "execution_count": 232
        }
      ]
    },
    {
      "cell_type": "code",
      "metadata": {
        "id": "rRBrF9e_pA8p",
        "colab_type": "code",
        "colab": {
          "base_uri": "https://localhost:8080/",
          "height": 1000
        },
        "outputId": "5451ed2c-afb2-449b-d1a9-7b24d7984741"
      },
      "source": [
        "#¿Que tipo y numero inspeccion hacen según la Entidad?\n",
        "data.groupby('Entidad').agg({'Materia ': ['min','max'],'Inspeccion': ['min','max']})"
      ],
      "execution_count": 213,
      "outputs": [
        {
          "output_type": "execute_result",
          "data": {
            "text/html": [
              "<div>\n",
              "<style scoped>\n",
              "    .dataframe tbody tr th:only-of-type {\n",
              "        vertical-align: middle;\n",
              "    }\n",
              "\n",
              "    .dataframe tbody tr th {\n",
              "        vertical-align: top;\n",
              "    }\n",
              "\n",
              "    .dataframe thead tr th {\n",
              "        text-align: left;\n",
              "    }\n",
              "\n",
              "    .dataframe thead tr:last-of-type th {\n",
              "        text-align: right;\n",
              "    }\n",
              "</style>\n",
              "<table border=\"1\" class=\"dataframe\">\n",
              "  <thead>\n",
              "    <tr>\n",
              "      <th></th>\n",
              "      <th colspan=\"2\" halign=\"left\">Materia</th>\n",
              "      <th colspan=\"2\" halign=\"left\">Inspeccion</th>\n",
              "    </tr>\n",
              "    <tr>\n",
              "      <th></th>\n",
              "      <th>min</th>\n",
              "      <th>max</th>\n",
              "      <th>min</th>\n",
              "      <th>max</th>\n",
              "    </tr>\n",
              "    <tr>\n",
              "      <th>Entidad</th>\n",
              "      <th></th>\n",
              "      <th></th>\n",
              "      <th></th>\n",
              "      <th></th>\n",
              "    </tr>\n",
              "  </thead>\n",
              "  <tbody>\n",
              "    <tr>\n",
              "      <th>Aguascalientes</th>\n",
              "      <td>Impacto Ambiental</td>\n",
              "      <td>Impacto Ambiental</td>\n",
              "      <td>3</td>\n",
              "      <td>3</td>\n",
              "    </tr>\n",
              "    <tr>\n",
              "      <th>Baja California</th>\n",
              "      <td>Impacto Ambiental</td>\n",
              "      <td>ZOFEMAT</td>\n",
              "      <td>1</td>\n",
              "      <td>5</td>\n",
              "    </tr>\n",
              "    <tr>\n",
              "      <th>Baja California Sur</th>\n",
              "      <td>Impacto Ambiental</td>\n",
              "      <td>ZOFEMAT</td>\n",
              "      <td>7</td>\n",
              "      <td>25</td>\n",
              "    </tr>\n",
              "    <tr>\n",
              "      <th>Campeche</th>\n",
              "      <td>Impacto Ambiental</td>\n",
              "      <td>ZOFEMAT</td>\n",
              "      <td>0</td>\n",
              "      <td>7</td>\n",
              "    </tr>\n",
              "    <tr>\n",
              "      <th>Chiapas</th>\n",
              "      <td>Impacto Ambiental</td>\n",
              "      <td>ZOFEMAT</td>\n",
              "      <td>5</td>\n",
              "      <td>12</td>\n",
              "    </tr>\n",
              "    <tr>\n",
              "      <th>Chihuahua</th>\n",
              "      <td>Impacto Ambiental</td>\n",
              "      <td>Impacto Ambiental</td>\n",
              "      <td>3</td>\n",
              "      <td>3</td>\n",
              "    </tr>\n",
              "    <tr>\n",
              "      <th>Coahuila</th>\n",
              "      <td>Impacto Ambiental</td>\n",
              "      <td>Impacto Ambiental</td>\n",
              "      <td>14</td>\n",
              "      <td>14</td>\n",
              "    </tr>\n",
              "    <tr>\n",
              "      <th>Colima</th>\n",
              "      <td>Impacto Ambiental</td>\n",
              "      <td>ZOFEMAT</td>\n",
              "      <td>2</td>\n",
              "      <td>10</td>\n",
              "    </tr>\n",
              "    <tr>\n",
              "      <th>Durango</th>\n",
              "      <td>Impacto Ambiental</td>\n",
              "      <td>Impacto Ambiental</td>\n",
              "      <td>4</td>\n",
              "      <td>4</td>\n",
              "    </tr>\n",
              "    <tr>\n",
              "      <th>Guanajuato</th>\n",
              "      <td>Impacto Ambiental</td>\n",
              "      <td>Impacto Ambiental</td>\n",
              "      <td>8</td>\n",
              "      <td>8</td>\n",
              "    </tr>\n",
              "    <tr>\n",
              "      <th>Guerrero</th>\n",
              "      <td>Impacto Ambiental</td>\n",
              "      <td>ZOFEMAT</td>\n",
              "      <td>20</td>\n",
              "      <td>24</td>\n",
              "    </tr>\n",
              "    <tr>\n",
              "      <th>Hidalgo</th>\n",
              "      <td>Impacto Ambiental</td>\n",
              "      <td>Impacto Ambiental</td>\n",
              "      <td>8</td>\n",
              "      <td>8</td>\n",
              "    </tr>\n",
              "    <tr>\n",
              "      <th>Jalisco</th>\n",
              "      <td>Impacto Ambiental</td>\n",
              "      <td>ZOFEMAT</td>\n",
              "      <td>8</td>\n",
              "      <td>18</td>\n",
              "    </tr>\n",
              "    <tr>\n",
              "      <th>Michoacán</th>\n",
              "      <td>Impacto Ambiental</td>\n",
              "      <td>ZOFEMAT</td>\n",
              "      <td>5</td>\n",
              "      <td>5</td>\n",
              "    </tr>\n",
              "    <tr>\n",
              "      <th>Morelos</th>\n",
              "      <td>Impacto Ambiental</td>\n",
              "      <td>Impacto Ambiental</td>\n",
              "      <td>13</td>\n",
              "      <td>13</td>\n",
              "    </tr>\n",
              "    <tr>\n",
              "      <th>México</th>\n",
              "      <td>Impacto Ambiental</td>\n",
              "      <td>Impacto Ambiental</td>\n",
              "      <td>13</td>\n",
              "      <td>13</td>\n",
              "    </tr>\n",
              "    <tr>\n",
              "      <th>Nayarit</th>\n",
              "      <td>Impacto Ambiental</td>\n",
              "      <td>ZOFEMAT</td>\n",
              "      <td>6</td>\n",
              "      <td>11</td>\n",
              "    </tr>\n",
              "    <tr>\n",
              "      <th>Nuevo León</th>\n",
              "      <td>Impacto Ambiental</td>\n",
              "      <td>Impacto Ambiental</td>\n",
              "      <td>26</td>\n",
              "      <td>26</td>\n",
              "    </tr>\n",
              "    <tr>\n",
              "      <th>Oaxaca</th>\n",
              "      <td>Impacto Ambiental</td>\n",
              "      <td>ZOFEMAT</td>\n",
              "      <td>7</td>\n",
              "      <td>38</td>\n",
              "    </tr>\n",
              "    <tr>\n",
              "      <th>Oficinas Centrales</th>\n",
              "      <td>Impacto Ambiental</td>\n",
              "      <td>Impacto Ambiental</td>\n",
              "      <td>5</td>\n",
              "      <td>5</td>\n",
              "    </tr>\n",
              "    <tr>\n",
              "      <th>Oficinas Centrales</th>\n",
              "      <td>ZOFEMAT</td>\n",
              "      <td>ZOFEMAT</td>\n",
              "      <td>12</td>\n",
              "      <td>12</td>\n",
              "    </tr>\n",
              "    <tr>\n",
              "      <th>Puebla</th>\n",
              "      <td>Impacto Ambiental</td>\n",
              "      <td>Impacto Ambiental</td>\n",
              "      <td>1</td>\n",
              "      <td>1</td>\n",
              "    </tr>\n",
              "    <tr>\n",
              "      <th>Querétaro</th>\n",
              "      <td>Impacto Ambiental</td>\n",
              "      <td>Impacto Ambiental</td>\n",
              "      <td>3</td>\n",
              "      <td>3</td>\n",
              "    </tr>\n",
              "    <tr>\n",
              "      <th>Quintana Roo</th>\n",
              "      <td>Impacto Ambiental</td>\n",
              "      <td>ZOFEMAT</td>\n",
              "      <td>5</td>\n",
              "      <td>39</td>\n",
              "    </tr>\n",
              "    <tr>\n",
              "      <th>San Luis Potosí</th>\n",
              "      <td>Impacto Ambiental</td>\n",
              "      <td>Impacto Ambiental</td>\n",
              "      <td>4</td>\n",
              "      <td>4</td>\n",
              "    </tr>\n",
              "    <tr>\n",
              "      <th>Sinaloa</th>\n",
              "      <td>Impacto Ambiental</td>\n",
              "      <td>ZOFEMAT</td>\n",
              "      <td>8</td>\n",
              "      <td>12</td>\n",
              "    </tr>\n",
              "    <tr>\n",
              "      <th>Sonora</th>\n",
              "      <td>Impacto Ambiental</td>\n",
              "      <td>ZOFEMAT</td>\n",
              "      <td>4</td>\n",
              "      <td>7</td>\n",
              "    </tr>\n",
              "    <tr>\n",
              "      <th>Tabasco</th>\n",
              "      <td>Impacto Ambiental</td>\n",
              "      <td>ZOFEMAT</td>\n",
              "      <td>0</td>\n",
              "      <td>6</td>\n",
              "    </tr>\n",
              "    <tr>\n",
              "      <th>Tamaulipas</th>\n",
              "      <td>Impacto Ambiental</td>\n",
              "      <td>ZOFEMAT</td>\n",
              "      <td>2</td>\n",
              "      <td>7</td>\n",
              "    </tr>\n",
              "    <tr>\n",
              "      <th>Tlaxcala</th>\n",
              "      <td>Impacto Ambiental</td>\n",
              "      <td>Impacto Ambiental</td>\n",
              "      <td>4</td>\n",
              "      <td>4</td>\n",
              "    </tr>\n",
              "    <tr>\n",
              "      <th>Veracruz</th>\n",
              "      <td>Impacto Ambiental</td>\n",
              "      <td>ZOFEMAT</td>\n",
              "      <td>4</td>\n",
              "      <td>22</td>\n",
              "    </tr>\n",
              "    <tr>\n",
              "      <th>Yucatán</th>\n",
              "      <td>Impacto Ambiental</td>\n",
              "      <td>ZOFEMAT</td>\n",
              "      <td>4</td>\n",
              "      <td>32</td>\n",
              "    </tr>\n",
              "    <tr>\n",
              "      <th>ZMVM</th>\n",
              "      <td>Impacto Ambiental</td>\n",
              "      <td>Impacto Ambiental</td>\n",
              "      <td>5</td>\n",
              "      <td>5</td>\n",
              "    </tr>\n",
              "    <tr>\n",
              "      <th>Zacatecas</th>\n",
              "      <td>Impacto Ambiental</td>\n",
              "      <td>Impacto Ambiental</td>\n",
              "      <td>8</td>\n",
              "      <td>8</td>\n",
              "    </tr>\n",
              "  </tbody>\n",
              "</table>\n",
              "</div>"
            ],
            "text/plain": [
              "                              Materia                     Inspeccion    \n",
              "                                   min                max        min max\n",
              "Entidad                                                                 \n",
              "Aguascalientes       Impacto Ambiental  Impacto Ambiental          3   3\n",
              "Baja California      Impacto Ambiental            ZOFEMAT          1   5\n",
              "Baja California Sur  Impacto Ambiental            ZOFEMAT          7  25\n",
              "Campeche             Impacto Ambiental            ZOFEMAT          0   7\n",
              "Chiapas              Impacto Ambiental            ZOFEMAT          5  12\n",
              "Chihuahua            Impacto Ambiental  Impacto Ambiental          3   3\n",
              "Coahuila             Impacto Ambiental  Impacto Ambiental         14  14\n",
              "Colima               Impacto Ambiental            ZOFEMAT          2  10\n",
              "Durango              Impacto Ambiental  Impacto Ambiental          4   4\n",
              "Guanajuato           Impacto Ambiental  Impacto Ambiental          8   8\n",
              "Guerrero             Impacto Ambiental            ZOFEMAT         20  24\n",
              "Hidalgo              Impacto Ambiental  Impacto Ambiental          8   8\n",
              "Jalisco              Impacto Ambiental            ZOFEMAT          8  18\n",
              "Michoacán            Impacto Ambiental            ZOFEMAT          5   5\n",
              "Morelos              Impacto Ambiental  Impacto Ambiental         13  13\n",
              "México               Impacto Ambiental  Impacto Ambiental         13  13\n",
              "Nayarit              Impacto Ambiental            ZOFEMAT          6  11\n",
              "Nuevo León           Impacto Ambiental  Impacto Ambiental         26  26\n",
              "Oaxaca               Impacto Ambiental            ZOFEMAT          7  38\n",
              "Oficinas Centrales   Impacto Ambiental  Impacto Ambiental          5   5\n",
              "Oficinas Centrales             ZOFEMAT            ZOFEMAT         12  12\n",
              "Puebla               Impacto Ambiental  Impacto Ambiental          1   1\n",
              "Querétaro            Impacto Ambiental  Impacto Ambiental          3   3\n",
              "Quintana Roo         Impacto Ambiental            ZOFEMAT          5  39\n",
              "San Luis Potosí      Impacto Ambiental  Impacto Ambiental          4   4\n",
              "Sinaloa              Impacto Ambiental            ZOFEMAT          8  12\n",
              "Sonora               Impacto Ambiental            ZOFEMAT          4   7\n",
              "Tabasco              Impacto Ambiental            ZOFEMAT          0   6\n",
              "Tamaulipas           Impacto Ambiental            ZOFEMAT          2   7\n",
              "Tlaxcala             Impacto Ambiental  Impacto Ambiental          4   4\n",
              "Veracruz             Impacto Ambiental            ZOFEMAT          4  22\n",
              "Yucatán              Impacto Ambiental            ZOFEMAT          4  32\n",
              "ZMVM                 Impacto Ambiental  Impacto Ambiental          5   5\n",
              "Zacatecas            Impacto Ambiental  Impacto Ambiental          8   8"
            ]
          },
          "metadata": {
            "tags": []
          },
          "execution_count": 213
        }
      ]
    },
    {
      "cell_type": "code",
      "metadata": {
        "id": "x_1YilxXtOta",
        "colab_type": "code",
        "colab": {
          "base_uri": "https://localhost:8080/",
          "height": 70
        },
        "outputId": "ef759b98-98de-47a2-91d1-76f75a8e9f41"
      },
      "source": [
        "#¿En que entidades no se hacen inspecciones?\n",
        "data[data.Inspeccion == 0].Entidad.value_counts()"
      ],
      "execution_count": 236,
      "outputs": [
        {
          "output_type": "execute_result",
          "data": {
            "text/plain": [
              "Campeche    1\n",
              "Tabasco     1\n",
              "Name: Entidad, dtype: int64"
            ]
          },
          "metadata": {
            "tags": []
          },
          "execution_count": 236
        }
      ]
    },
    {
      "cell_type": "markdown",
      "metadata": {
        "id": "oNpKRvWdwXBF",
        "colab_type": "text"
      },
      "source": [
        "## Conslusión:\n",
        "*En base a los datos presentados anteriormete podemos responder a la pregunta de si el gobierno Federal tanto como los Estatales se esta preocupando por vigilar las acciones que puedden tener un impacto negativo en el medio ambiente y en su caso sancionarlas.* \n",
        "\n",
        "*Se respondieron varias preguntas que podrian ser de utilidad para dar un seguimiento a lo que hacen los gobiernos locales y el gobierno federal para mitigar estos impactos ya que como se ve hay dos estados en los cuales no se hace ninguna inspeccion de este tipo.*\n",
        "\n",
        "#### Las preguntas que se contestaron aqui fueron las siguientes:\n",
        "- ¿De que tipo de inspecciones se realizan más? \n",
        "- ¿Cuántas inspecciones se hacen en Guanajuato?\n",
        "- ¿Que tipo y numero inspeccion hacen según la Entidad?\n",
        "- ¿En que entidades no se hacen inspecciones? \n",
        "\n",
        "\n",
        "### Referencias\n",
        "\n",
        "*Toda la informacion que fue utilizada aqui se puede consultar [aqui](https://datos.gob.mx/busca/dataset/acciones-de-inspeccion-en-materia-de-impacto-ambiental-y-zofemat/resource/5f354328-7095-4474-9e2d-912a345e5dd0)*"
      ]
    }
  ]
}